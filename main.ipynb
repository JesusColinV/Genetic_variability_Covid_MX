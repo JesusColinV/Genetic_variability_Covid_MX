{
 "cells": [
  {
   "cell_type": "markdown",
   "id": "7f6d8705",
   "metadata": {},
   "source": [
    "\n",
    "Created on Sat Sep 24 17:40:00 2022\n",
    "\n",
    "@author: JESUS ALEJANDRO COLIN VILCHIS\n",
    "\n",
    "# target:\n",
    "  ## Analysis of the gisaid data, until August 31, 2022\n"
   ]
  },
  {
   "cell_type": "code",
   "execution_count": null,
   "id": "0942d3e7",
   "metadata": {},
   "outputs": [],
   "source": [
    "# Pandas\n",
    "import pandas as pd\n",
    "\n",
    "# Python\n",
    "import warnings\n",
    "import os\n",
    "\n",
    "from concurrent.futures import ThreadPoolExecutor\n",
    "\n",
    "# Plotly\n",
    "import plotly.graph_objects as go\n",
    "import plotly.express as px\n",
    "import datetime\n",
    "\n",
    "# Developed\n",
    "from utils import Files as f\n",
    "from utils import Counter as c\n",
    "from utils import counter, autoadjust, add_p_value_annotation\n",
    "from utils import get_voc"
   ]
  },
  {
   "cell_type": "markdown",
   "id": "df777529",
   "metadata": {},
   "source": [
    "Cleaning of library alerts"
   ]
  },
  {
   "cell_type": "code",
   "execution_count": null,
   "id": "09be00af",
   "metadata": {},
   "outputs": [],
   "source": [
    "warnings.filterwarnings('ignore')"
   ]
  },
  {
   "cell_type": "markdown",
   "id": "dc5b76de",
   "metadata": {},
   "source": [
    "Loading, preprocessing, normalization and data cleaning."
   ]
  },
  {
   "cell_type": "code",
   "execution_count": null,
   "id": "2aab1d5e",
   "metadata": {},
   "outputs": [],
   "source": [
    "files = os.listdir(\"files\")\n",
    "\n",
    "# Reading\n",
    "original_file = pd.read_csv(\"files/gisaid_hcov-19_2022_08_17_04.tsv\",sep=\"\\t\")\n",
    "dictionaries = f.load_dict(dir = \"json\")\n",
    "\n",
    "# Preprocessing and standardization\n",
    "completed_file = f.complete(original_file)\n",
    "normalized_file = f.normalize(completed_file , dictionaries)\n",
    "\n",
    "# Tables are filtered according to age\n",
    "df_under18 = f.filter_age(normalized_file,\"under18\")\n",
    "df_over18 = f.filter_age(normalized_file,\"over18\")\n"
   ]
  },
  {
   "cell_type": "markdown",
   "id": "867c50f6",
   "metadata": {},
   "source": [
    "The size of the recordsets according to their age are as follows."
   ]
  },
  {
   "cell_type": "code",
   "execution_count": null,
   "id": "0667090b",
   "metadata": {},
   "outputs": [],
   "source": [
    "n_under18 = len(df_under18)\n",
    "n_over18 = len(df_over18)\n",
    "\n",
    "print(\n",
    "    \"Under_18: \\t\", n_under18 ,\"\\n\", \n",
    "    \"Over_18: \\t\", n_over18 ,\"\\n\", \n",
    "    \"Total: \\t\", len(normalized_file)\n",
    "    )"
   ]
  },
  {
   "cell_type": "markdown",
   "id": "12a4209d",
   "metadata": {},
   "source": [
    "Counting mutations, and calculating percentages"
   ]
  },
  {
   "cell_type": "code",
   "execution_count": null,
   "id": "99862be9",
   "metadata": {},
   "outputs": [],
   "source": [
    "if \"table_mutation_count.csv\" not in files:\n",
    "    # Mutations grouped by protein of occurrence are counted\n",
    "    df_count_all = counter(\n",
    "        normalized_file,\n",
    "        dictionaries[\"proteins\"])\n",
    "    \n",
    "    df_count_under18 = counter(\n",
    "        df_under18,\n",
    "        dictionaries[\"proteins\"])\n",
    "    \n",
    "    df_count_over18 = counter(\n",
    "        df_over18,\n",
    "        dictionaries[\"proteins\"])\n",
    "\n",
    "\n",
    "    # column name change\n",
    "    mk_table = lambda df:pd.concat(\n",
    "        [df[k].rename(columns = {k:'mutation'}) \n",
    "         for k in df.keys()] \n",
    "        ).set_index('mutation')\n",
    "    \n",
    "    df_mutations_total = mk_table(df_count_all)\n",
    "    df_mutations_under18 = mk_table(df_count_under18)\n",
    "    df_mutations_over18 = mk_table(df_count_over18)\n",
    "\n",
    "    # column name change\n",
    "    rname = lambda df,txt=\"\" : df.rename(columns = {i:i+txt if i!= 'mutation'else i for i in df.columns})\n",
    "    df_m_total= rname(df_mutations_total)\n",
    "    df_m_under18= rname(df_mutations_under18,\"_under18\")\n",
    "    df_m_over18= rname(df_mutations_over18,\"_over18\")\n",
    "\n",
    "    # Join the tables\n",
    "    df_mutations = df_m_total.join(df_m_under18).join(df_m_over18)\n",
    "    \n",
    "    # Percentage calculation\n",
    "    df_mutations['percentage_under18'] = [(df_mutations['count_under18'].iloc[i]/n_under18)*100 for i in range(len(df_mutations))]\n",
    "    df_mutations['percentage_over18'] = [(df_mutations['count_over18'].iloc[i]/n_over18)*100  for i in range(len(df_mutations))]\n",
    "    df_mutations = df_mutations[['change','position','count','count_under18','percentage_under18','count_over18','percentage_over18','full']].fillna(0)\n",
    "\n",
    "    # save the results\n",
    "    df_mutations.to_csv('files/table_mutation_count.csv')\n",
    "    \n",
    "else:\n",
    "    \n",
    "    #save the results\n",
    "    df_mutations = pd.read_csv(\"files/table_mutation_count.csv\")\n"
   ]
  },
  {
   "cell_type": "code",
   "execution_count": null,
   "id": "ac7e655f",
   "metadata": {},
   "outputs": [],
   "source": [
    "if \"tabla_mutations_variant.csv\" not in files:\n",
    "    \n",
    "    \n",
    "    with ThreadPoolExecutor(max_workers = 3) as executor:\n",
    "        f1 = executor.submit(c.properties_mutations,normalized_file,df_mutations['change'].tolist())\n",
    "        f2 = executor.submit(c.properties_mutations,df_under18,df_mutations['change'].tolist())\n",
    "        f3 = executor.submit(c.properties_mutations,df_over18,df_mutations['change'].tolist())\n",
    "\n",
    "    table_mutations_variant = f1.result()\n",
    "    table_mutations_variant_under = f2.result() \n",
    "    table_mutations_variant_over18 = f3.result() \n",
    "\n",
    "    # Dictionaries are converted into dataframes\n",
    "    table_mutations_variant = pd.DataFrame(table_mutations_variant)\n",
    "    table_mutations_variant_under18 = pd.DataFrame(table_mutations_variant_under)\n",
    "    table_mutations_variant_over18 = pd.DataFrame(table_mutations_variant_over18)\n",
    "\n",
    "    # Join the tables\n",
    "    table_mv = pd.concat(\n",
    "        [\n",
    "            table_mutations_variant.transpose(), \n",
    "            table_mutations_variant_under18.transpose(), \n",
    "            table_mutations_variant_over18.transpose()], \n",
    "        axis=1\n",
    "        )\n",
    "    \n",
    "    #save the results\n",
    "    table_mv.to_csv(\"files/tabla_mutations_variant.csv\")\n",
    "    \n",
    "else:\n",
    "    \n",
    "    #save the results\n",
    "    table_mv = pd.read_csv(\"files/tabla_mutations_variant.csv\")"
   ]
  },
  {
   "cell_type": "markdown",
   "id": "76328192",
   "metadata": {},
   "source": [
    "# Graphics"
   ]
  },
  {
   "cell_type": "markdown",
   "id": "28ffc101",
   "metadata": {},
   "source": [
    "From the age distributions for each variant, a box plot is generated."
   ]
  },
  {
   "cell_type": "code",
   "execution_count": null,
   "id": "037f8ae6",
   "metadata": {},
   "outputs": [],
   "source": [
    "fig = go.Figure()\n",
    "\n",
    "# For each variant\n",
    "for vt in normalized_file[\"variant_type\"].unique():\n",
    "    \n",
    "    fig.add_trace(\n",
    "        go.Box(\n",
    "            y=normalized_file[\n",
    "                normalized_file[\"variant_type\"] == vt]['age'],\n",
    "            name=vt,\n",
    "            boxpoints='outliers'\n",
    "        ))\n",
    "    \n",
    "fig = add_p_value_annotation(fig, [[0,1], [0,2], [0,3], [0,4], [0,5]])\n",
    "\n",
    "fig = fig.update_layout(\n",
    "    autosize=False,\n",
    "    width=1200,\n",
    "    showlegend=True,\n",
    "    template=\"plotly_white\"\n",
    "    )\n",
    "\n",
    "fig.show()"
   ]
  },
  {
   "cell_type": "markdown",
   "id": "b057c724",
   "metadata": {},
   "source": [
    "Cleaning week no data uploaded\n",
    "* This is for display only"
   ]
  },
  {
   "cell_type": "code",
   "execution_count": null,
   "id": "a389647b",
   "metadata": {},
   "outputs": [],
   "source": [
    "\n",
    "\n",
    "voc = get_voc(normalized_file)\n",
    "voc = pd.DataFrame(voc)\n",
    "voc.iloc[106] = voc.iloc[105]\n",
    "voc = voc.iloc[8:]"
   ]
  },
  {
   "cell_type": "markdown",
   "id": "624acba9",
   "metadata": {},
   "source": [
    "100 Percent Stacked Area Chart from variant counts"
   ]
  },
  {
   "cell_type": "code",
   "execution_count": null,
   "id": "44f26be3",
   "metadata": {},
   "outputs": [],
   "source": [
    "df = voc.divide(voc.sum(axis=1), axis=0)\n",
    "df.to_csv(\"files/variant_semana.csv\")\n",
    "fig = px.area(\n",
    "    df,\n",
    "    line_shape=\"spline\",\n",
    "    template=\"plotly_white\"\n",
    "    )\n",
    "fig.show()\n"
   ]
  },
  {
   "cell_type": "markdown",
   "id": "a1d38b0a",
   "metadata": {},
   "source": [
    "Cleaning week no data uploaded\n",
    "* This is for display only"
   ]
  },
  {
   "cell_type": "code",
   "execution_count": null,
   "id": "2fe982af",
   "metadata": {},
   "outputs": [],
   "source": [
    "from utils import get_clado\n",
    "clado = get_clado(normalized_file)\n",
    "clado = pd.DataFrame(clado)\n",
    "clado.iloc[106] = clado.iloc[105]#[104:107]\n",
    "clado = clado.iloc[8:]\n",
    "clado.to_csv(\"files/clado_semana.csv\")"
   ]
  },
  {
   "cell_type": "markdown",
   "id": "3f728351",
   "metadata": {},
   "source": [
    "100 Percent Stacked Area Chart from clade counts"
   ]
  },
  {
   "cell_type": "code",
   "execution_count": null,
   "id": "66975033",
   "metadata": {},
   "outputs": [],
   "source": [
    "fig = px.area(\n",
    "    clado.divide(\n",
    "        clado.sum(axis=1), \n",
    "        axis=0),\n",
    "    line_shape=\"spline\",\n",
    "    template=\"plotly_white\"\n",
    "    )\n",
    "fig.show()"
   ]
  },
  {
   "cell_type": "code",
   "execution_count": null,
   "id": "7cf74c63",
   "metadata": {},
   "outputs": [],
   "source": [
    "from utils import count_representative_state, count_representative_country\n",
    "\n",
    "writer =  pd.ExcelWriter('files/estados.xlsx')\n",
    "count_representative_state(\n",
    "  writer,\n",
    "  normalized_file,\n",
    "  dictionaries\n",
    "  )\n",
    "\n",
    "\n",
    "count_representative_country(\n",
    "    writer,\n",
    "    normalized_file,\n",
    ")\n",
    "\n",
    "writer.save()"
   ]
  },
  {
   "cell_type": "code",
   "execution_count": null,
   "id": "6f6e55af",
   "metadata": {},
   "outputs": [],
   "source": [
    "\n",
    "week_state = dict()\n",
    "\n",
    "for i in dictionaries[\"unique_states_types\"].values():\n",
    "  week_state[i] = pd.read_excel(\n",
    "    open('files/estados.xlsx', 'rb'), \n",
    "    header = 1 ,\n",
    "    sheet_name=str(i))[['week','predominant']]"
   ]
  },
  {
   "cell_type": "code",
   "execution_count": null,
   "id": "ccc6c72d",
   "metadata": {},
   "outputs": [],
   "source": [
    "from utils import get_states\n",
    "\n",
    "states = get_states(normalized_file, dictionaries)\n",
    "df_states = pd.DataFrame(states,columns=['week_cont', 'state_key' ,'variant_type'])"
   ]
  },
  {
   "cell_type": "code",
   "execution_count": null,
   "id": "cf568922",
   "metadata": {},
   "outputs": [],
   "source": [
    "df_states.groupby('variant_type').size()"
   ]
  },
  {
   "cell_type": "code",
   "execution_count": null,
   "id": "93f99fb3",
   "metadata": {},
   "outputs": [],
   "source": [
    "fig = px.scatter(\n",
    "    df_states.query('state_key != \"Extra\"'), \n",
    "    y='state_key', \n",
    "    x= 'week_cont', \n",
    "    color='variant_type', \n",
    "    size_max=60,\n",
    "    template='plotly_white', \n",
    "    title=\"variante predominante por Estado\",\n",
    "    color_discrete_sequence=px.colors.qualitative.Vivid\n",
    "    )\n",
    "\n",
    "fig.update_layout(yaxis={\n",
    "                    'categoryorder': 'array', \n",
    "                    'categoryarray': [\n",
    "                        'Baja California','Baja California Sur',\n",
    "                        'Sonora','Chihuahua','Coahuila',\n",
    "                        'Nuevo Leon','Colima','Chiapas',\n",
    "                        'Tamaulipas','Aguascalientes','Hidalgo',\n",
    "                        'Guanajuato','Durango','Jalisco',\n",
    "                        'Sinaloa','Ciudad de Mexico',\n",
    "                        'Estado de Mexico','Michoacan',\n",
    "                        'Morelos','Nayarit','Oaxaca',\n",
    "                        'Puebla','Queretaro','San Luis Potosi',\n",
    "                        'Guerero','Tabasco','Tlaxcala',\n",
    "                        'Veracruz','Zacatecas','Campeche',\n",
    "                        'Quintana Roo','Yucatan'\n",
    "                        ]},\n",
    "    width=1000,\n",
    "    height=1000)\n",
    "\n",
    "fig.show()"
   ]
  },
  {
   "cell_type": "code",
   "execution_count": null,
   "id": "2ecdc307",
   "metadata": {},
   "outputs": [],
   "source": [
    "df_states.to_csv(\"files/estados_por_puntos.csv\")"
   ]
  },
  {
   "cell_type": "code",
   "execution_count": null,
   "id": "df389364",
   "metadata": {},
   "outputs": [],
   "source": [
    "df_states.groupby(['state_key','variant_type']).size().to_csv(\"files/estados_cuenta.csv\")"
   ]
  },
  {
   "cell_type": "code",
   "execution_count": null,
   "id": "bb345aea",
   "metadata": {},
   "outputs": [],
   "source": []
  },
  {
   "cell_type": "code",
   "execution_count": null,
   "id": "775c99f3",
   "metadata": {},
   "outputs": [],
   "source": [
    "path = \"files/220901COVID19MEXICO.csv\"\n",
    "df_sinav = pd.read_csv(path)\n",
    "df_sinav = df_sinav[df_sinav['FECHA_INGRESO'].notna()]\n",
    "df_sinav = df_sinav.query('CLASIFICACION_FINAL == 3 and EDAD < 18 ')\n",
    "df_sinav.head()"
   ]
  },
  {
   "cell_type": "code",
   "execution_count": null,
   "id": "3cdaed56",
   "metadata": {},
   "outputs": [],
   "source": [
    "df_sinav['Year'] = [datetime.datetime.strptime(i,'%Y-%m-%d').year for i in df_sinav['FECHA_INGRESO']]\n",
    "df_sinav['date'] = [datetime.datetime.strptime(i,'%Y-%m-%d').isocalendar() for i in df_sinav['FECHA_INGRESO']]\n",
    "\n",
    "delay = {\n",
    "    2020:0,\n",
    "    2021:53,\n",
    "    2022:106\n",
    "    }\n",
    "\n",
    "df_sinav[\"week\"] = [df_sinav.date.iloc[i][1]  for i in range(len(df_sinav))]\n",
    "df_sinav[\"week_cont\"] = [df_sinav.date.iloc[i][1] + delay[df_sinav.date.iloc[i][0]] for i in range(len(df_sinav))]"
   ]
  },
  {
   "cell_type": "code",
   "execution_count": null,
   "id": "07715f26",
   "metadata": {},
   "outputs": [],
   "source": [
    "len(df_sinav)"
   ]
  },
  {
   "cell_type": "code",
   "execution_count": null,
   "id": "3b204c61",
   "metadata": {},
   "outputs": [],
   "source": [
    "df_sinav['TIPO_PACIENTE_AMP'] = [\n",
    "    df_sinav['TIPO_PACIENTE'].iloc[i] if df_sinav['FECHA_DEF'].iloc[i] == '9999-99-99' else 3  \n",
    "    for i in range(len(df_sinav))\n",
    "    ]\n",
    "df_sinav['UCI_INTUBADO'] = [1 if df_sinav['UCI'].iloc[i] == 1 or df_sinav['INTUBADO'].iloc[i] == 1 else 2 \n",
    "                            for i in range(len(df_sinav))]\n",
    "df_sinav['EMBARAZO_bool'] = [1 if df_sinav['EMBARAZO'].iloc[i] == 1  else 2 for i in range(len(df_sinav))]"
   ]
  },
  {
   "cell_type": "code",
   "execution_count": null,
   "id": "a22a9af1",
   "metadata": {},
   "outputs": [],
   "source": [
    "#\n",
    "#\n",
    "#table = list()\n",
    "#for i in range(len(df_sinav)):\n",
    "#  try:\n",
    "#    val = normalized_file.query(\n",
    "#        f\" state_key == { df_sinav['ENTIDAD_RES'].iloc[i] } and week_cont == { df_sinav['week_cont'].iloc[i] }\"\n",
    "#        ).groupby(\n",
    "#          ['variant_type']\n",
    "#            ).size().transform(lambda x: x/x.sum())\n",
    "#    table.append(val[val>0.5].keys()[0])\n",
    "#  except IndexError:\n",
    "#    table.append('None')\n",
    "#  except Exception as ex:\n",
    "#    print(ex)\n",
    "#\n",
    "#df_sinav['Predominant'] = table"
   ]
  },
  {
   "cell_type": "code",
   "execution_count": null,
   "id": "d84a8400",
   "metadata": {},
   "outputs": [],
   "source": [
    "def calculate_sinav(df_sinav):\n",
    "    table = list()\n",
    "    for i in range(len(df_sinav)):\n",
    "        try:\n",
    "            val = normalized_file.query(\n",
    "                f\" state_key == { df_sinav['ENTIDAD_RES'].iloc[i] } and week_cont == { df_sinav['week_cont'].iloc[i] }\"\n",
    "                ).groupby(\n",
    "                ['variant_type']\n",
    "                    ).size().transform(lambda x: x/x.sum())\n",
    "            table.append(val[val>0.5].keys()[0])\n",
    "        except IndexError:\n",
    "            table.append('None')\n",
    "        except Exception as ex:\n",
    "            table.append('None')\n",
    "            print(ex)\n",
    "    return table"
   ]
  },
  {
   "cell_type": "code",
   "execution_count": null,
   "id": "098466c5",
   "metadata": {},
   "outputs": [],
   "source": [
    "df_2 = df_sinav \n",
    "df_sinav = df_sinav[1:]\n",
    "n = len(df_sinav)/5\n",
    "n"
   ]
  },
  {
   "cell_type": "code",
   "execution_count": null,
   "id": "32791b90",
   "metadata": {},
   "outputs": [],
   "source": [
    "with ThreadPoolExecutor(max_workers=10) as executor:\n",
    "    futures = list()\n",
    "    futures.append(executor.submit(calculate_sinav,df_sinav.iloc[:int(n)]))\n",
    "    futures.append(executor.submit(calculate_sinav,df_sinav.iloc[int(n):int(2*n)]))\n",
    "    futures.append(executor.submit(calculate_sinav,df_sinav.iloc[int(2*n):int(3*n)]))\n",
    "    futures.append(executor.submit(calculate_sinav,df_sinav.iloc[int(3*n):int(4*n)]))\n",
    "    futures.append(executor.submit(calculate_sinav,df_sinav.iloc[int(4*n):]))"
   ]
  },
  {
   "cell_type": "code",
   "execution_count": null,
   "id": "be5efdc2",
   "metadata": {},
   "outputs": [],
   "source": [
    "r = list()\n",
    "for i in futures:\n",
    "    r = r + i.result()\n",
    "df_sinav['Predominant'] = r\n"
   ]
  },
  {
   "cell_type": "code",
   "execution_count": null,
   "id": "ac497c28",
   "metadata": {},
   "outputs": [],
   "source": [
    "df_sinav.to_csv(\"files/sinav_predominant.csv\")"
   ]
  }
 ],
 "metadata": {
  "kernelspec": {
   "display_name": "Python 3.9.12 ('base')",
   "language": "python",
   "name": "python3"
  },
  "language_info": {
   "codemirror_mode": {
    "name": "ipython",
    "version": 3
   },
   "file_extension": ".py",
   "mimetype": "text/x-python",
   "name": "python",
   "nbconvert_exporter": "python",
   "pygments_lexer": "ipython3",
   "version": "3.9.12"
  },
  "vscode": {
   "interpreter": {
    "hash": "a90aeebcf29d64a654773811cc170cb25061cb2498f10ac689db374c7bf325de"
   }
  }
 },
 "nbformat": 4,
 "nbformat_minor": 5
}
